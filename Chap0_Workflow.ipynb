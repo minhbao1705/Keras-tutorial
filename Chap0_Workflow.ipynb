{
  "nbformat": 4,
  "nbformat_minor": 0,
  "metadata": {
    "colab": {
      "provenance": [],
      "mount_file_id": "1cA5VhIaSL4TUaHf9DVckCE3oKeaOC4hv",
      "authorship_tag": "ABX9TyPNiOXjom49I0HKopLKaIf4",
      "include_colab_link": true
    },
    "kernelspec": {
      "name": "python3",
      "display_name": "Python 3"
    },
    "language_info": {
      "name": "python"
    }
  },
  "cells": [
    {
      "cell_type": "markdown",
      "metadata": {
        "id": "view-in-github",
        "colab_type": "text"
      },
      "source": [
        "<a href=\"https://colab.research.google.com/github/minhbao1705/Keras-tutorial/blob/main/Chap0_Workflow.ipynb\" target=\"_parent\"><img src=\"https://colab.research.google.com/assets/colab-badge.svg\" alt=\"Open In Colab\"/></a>"
      ]
    },
    {
      "cell_type": "markdown",
      "source": [
        "Here is the Sequential model"
      ],
      "metadata": {
        "id": "SbbaDWTgVRee"
      }
    },
    {
      "cell_type": "code",
      "execution_count": null,
      "metadata": {
        "id": "v9WLsQlVVIfm"
      },
      "outputs": [],
      "source": [
        "from keras.models import Sequential\n",
        "model = Sequential()"
      ]
    },
    {
      "cell_type": "markdown",
      "source": [
        "Stacking layers is as easy as .add():"
      ],
      "metadata": {
        "id": "NOG2IVDbVdeS"
      }
    },
    {
      "cell_type": "code",
      "source": [
        "from keras.layers import Dense\n",
        "model.add(Dense(units=64, activation='relu', input_dim=100))\n",
        "model.add(Dense(units=10, activation='softmax'))"
      ],
      "metadata": {
        "id": "-2GHEahBVcOb"
      },
      "execution_count": null,
      "outputs": []
    },
    {
      "cell_type": "markdown",
      "source": [
        "Once your model looks good, configure its learning process with.compile()"
      ],
      "metadata": {
        "id": "a-IQYmPsWG4d"
      }
    },
    {
      "cell_type": "code",
      "source": [
        "model.compile(loss='categorical_crossentropy',\n",
        "              optimizer='sgd',\n",
        "              metrics=['accuracy'])"
      ],
      "metadata": {
        "id": "CM9U4VYuV37t"
      },
      "execution_count": null,
      "outputs": []
    },
    {
      "cell_type": "markdown",
      "source": [
        "If you need to, you can further configure your optimizer. A core principle of keras is to make things reasonably simple, while allowing the user to be fully in control when they need to (the ultimate control being the easy extensibility of the source code)."
      ],
      "metadata": {
        "id": "yYqy4AsyYJkk"
      }
    },
    {
      "cell_type": "code",
      "source": [
        "import keras\n",
        "model.compile(loss=keras.losses.categorical_crossentropy,\n",
        "              optimizer=keras.optimizers.SGD(learning_rate=0.01, momentum=0.9, nesterov=True))"
      ],
      "metadata": {
        "id": "babXhkKIWfQ7"
      },
      "execution_count": null,
      "outputs": []
    },
    {
      "cell_type": "markdown",
      "source": [
        "You can now iterate on your training data in batches"
      ],
      "metadata": {
        "id": "uLfa9QQTYsPF"
      }
    },
    {
      "cell_type": "code",
      "source": [
        "# x_train, y_train are Numpy arrays ...just like in the Scikit-learn API\n",
        "model.fit(x_train, y_train, epochs=10, batch_size=32)"
      ],
      "metadata": {
        "id": "rX-Q5-WiYZsF"
      },
      "execution_count": null,
      "outputs": []
    },
    {
      "cell_type": "markdown",
      "source": [
        "Altermatively, you can feed batches to your model manually"
      ],
      "metadata": {
        "id": "ogFjEFjzZH-b"
      }
    },
    {
      "cell_type": "code",
      "source": [
        "model.train_on_batch(x_batch, y_batch)"
      ],
      "metadata": {
        "id": "bq_uGdXEY75E"
      },
      "execution_count": null,
      "outputs": []
    },
    {
      "cell_type": "markdown",
      "source": [
        "Evaluate your performance in one line"
      ],
      "metadata": {
        "id": "Nse0n1DyZRpL"
      }
    },
    {
      "cell_type": "code",
      "source": [
        "loss_and_metrics = model.avaluate(x_test, y_test, batch_size=128)"
      ],
      "metadata": {
        "id": "it_bzFMXZPt9"
      },
      "execution_count": null,
      "outputs": []
    },
    {
      "cell_type": "markdown",
      "source": [
        "Or generate predictions on new data"
      ],
      "metadata": {
        "id": "yWmoPfSkZb-n"
      }
    },
    {
      "cell_type": "code",
      "source": [
        "classes = model.predict(x_test, batch_size=128)"
      ],
      "metadata": {
        "id": "5NZ2imLLZgjN"
      },
      "execution_count": null,
      "outputs": []
    }
  ]
}